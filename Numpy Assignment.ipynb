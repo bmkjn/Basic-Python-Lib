{
 "cells": [
  {
   "cell_type": "markdown",
   "id": "4a4be2ff",
   "metadata": {},
   "source": [
    "## GDP"
   ]
  },
  {
   "cell_type": "code",
   "execution_count": 1,
   "id": "898cbc9c",
   "metadata": {},
   "outputs": [],
   "source": [
    "import numpy as np"
   ]
  },
  {
   "cell_type": "code",
   "execution_count": 2,
   "id": "3c5fb7c2",
   "metadata": {},
   "outputs": [],
   "source": [
    "countries_np = np.array(['Algeria','Angola','Argentina','Australia','Austria','Bahamas','Bangladesh','Belarus','Belgium','Bhutan','Brazil','Bulgaria','Cambodia','Cameroon','Chile','China','Colombia','Cyprus','Denmark','El Salvador','Estonia','Ethiopia','Fiji','Finland','France','Georgia','Ghana','Grenada','Guinea','Haiti','Honduras','Hungary','India','Indonesia','Ireland','Italy','Japan','Kenya', 'South Korea','Liberia','Malaysia','Mexico', 'Morocco','Nepal','New Zealand','Norway','Pakistan', 'Peru','Qatar','Russia','Singapore','South Africa','Spain','Sweden','Switzerland','Thailand', 'United Arab Emirates','United Kingdom','United States','Uruguay','Venezuela','Vietnam','Zimbabwe'])"
   ]
  },
  {
   "cell_type": "code",
   "execution_count": 3,
   "id": "384b283b",
   "metadata": {},
   "outputs": [
    {
     "data": {
      "text/plain": [
       "array(['Algeria', 'Angola', 'Argentina', 'Australia', 'Austria',\n",
       "       'Bahamas', 'Bangladesh', 'Belarus', 'Belgium', 'Bhutan', 'Brazil',\n",
       "       'Bulgaria', 'Cambodia', 'Cameroon', 'Chile', 'China', 'Colombia',\n",
       "       'Cyprus', 'Denmark', 'El Salvador', 'Estonia', 'Ethiopia', 'Fiji',\n",
       "       'Finland', 'France', 'Georgia', 'Ghana', 'Grenada', 'Guinea',\n",
       "       'Haiti', 'Honduras', 'Hungary', 'India', 'Indonesia', 'Ireland',\n",
       "       'Italy', 'Japan', 'Kenya', 'South Korea', 'Liberia', 'Malaysia',\n",
       "       'Mexico', 'Morocco', 'Nepal', 'New Zealand', 'Norway', 'Pakistan',\n",
       "       'Peru', 'Qatar', 'Russia', 'Singapore', 'South Africa', 'Spain',\n",
       "       'Sweden', 'Switzerland', 'Thailand', 'United Arab Emirates',\n",
       "       'United Kingdom', 'United States', 'Uruguay', 'Venezuela',\n",
       "       'Vietnam', 'Zimbabwe'], dtype='<U20')"
      ]
     },
     "execution_count": 3,
     "metadata": {},
     "output_type": "execute_result"
    }
   ],
   "source": [
    "countries_np"
   ]
  },
  {
   "cell_type": "code",
   "execution_count": 4,
   "id": "447d9b73",
   "metadata": {},
   "outputs": [],
   "source": [
    "countries_gdp_np = np.array([2255.225482,629.9553062,11601.63022,25306.82494,27266.40335,19466.99052,588.3691778,2890.345675,24733.62696,1445.760002,4803.398244,2618.876037,590.4521124,665.7982328,7122.938458,2639.54156,3362.4656,15378.16704,30860.12808,2579.115607,6525.541272,229.6769525,2242.689259,27570.4852,23016.84778,1334.646773,402.6953275,6047.200797,394.1156638,385.5793827,1414.072488,5745.981529,837.7464011,1206.991065,27715.52837,18937.24998,39578.07441,478.2194906,16684.21278,279.2204061,5345.213415,6288.25324,1908.304416,274.8728621,14646.42094,40034.85063,672.1547506,3359.517402,36152.66676,3054.727742,33529.83052,3825.093781,15428.32098,33630.24604,39170.41371,2699.123242,21058.43643,28272.40661,37691.02733,9581.05659,5671.912202,757.4009286,347.7456605])"
   ]
  },
  {
   "cell_type": "code",
   "execution_count": 5,
   "id": "cd72265a",
   "metadata": {},
   "outputs": [
    {
     "data": {
      "text/plain": [
       "array([ 2255.225482 ,   629.9553062, 11601.63022  , 25306.82494  ,\n",
       "       27266.40335  , 19466.99052  ,   588.3691778,  2890.345675 ,\n",
       "       24733.62696  ,  1445.760002 ,  4803.398244 ,  2618.876037 ,\n",
       "         590.4521124,   665.7982328,  7122.938458 ,  2639.54156  ,\n",
       "        3362.4656   , 15378.16704  , 30860.12808  ,  2579.115607 ,\n",
       "        6525.541272 ,   229.6769525,  2242.689259 , 27570.4852   ,\n",
       "       23016.84778  ,  1334.646773 ,   402.6953275,  6047.200797 ,\n",
       "         394.1156638,   385.5793827,  1414.072488 ,  5745.981529 ,\n",
       "         837.7464011,  1206.991065 , 27715.52837  , 18937.24998  ,\n",
       "       39578.07441  ,   478.2194906, 16684.21278  ,   279.2204061,\n",
       "        5345.213415 ,  6288.25324  ,  1908.304416 ,   274.8728621,\n",
       "       14646.42094  , 40034.85063  ,   672.1547506,  3359.517402 ,\n",
       "       36152.66676  ,  3054.727742 , 33529.83052  ,  3825.093781 ,\n",
       "       15428.32098  , 33630.24604  , 39170.41371  ,  2699.123242 ,\n",
       "       21058.43643  , 28272.40661  , 37691.02733  ,  9581.05659  ,\n",
       "        5671.912202 ,   757.4009286,   347.7456605])"
      ]
     },
     "execution_count": 5,
     "metadata": {},
     "output_type": "execute_result"
    }
   ],
   "source": [
    "countries_gdp_np"
   ]
  },
  {
   "cell_type": "code",
   "execution_count": 17,
   "id": "f5ca5ff0",
   "metadata": {},
   "outputs": [
    {
     "name": "stdout",
     "output_type": "stream",
     "text": [
      "40034.85063 229.6769525 11289.409271639683 12743.828910617945 711232.7841133\n"
     ]
    }
   ],
   "source": [
    "#highest gdp value \n",
    "print(countries_gdp_np.max(), countries_gdp_np.min(),countries_gdp_np.mean(),countries_gdp_np.std(),countries_gdp_np.sum())"
   ]
  },
  {
   "cell_type": "code",
   "execution_count": 25,
   "id": "7b2bb81f",
   "metadata": {},
   "outputs": [
    {
     "data": {
      "text/plain": [
       "(40034.85, 229.68)"
      ]
     },
     "execution_count": 25,
     "metadata": {},
     "output_type": "execute_result"
    }
   ],
   "source": [
    "#round the min and max values to 2 decimal places\n",
    "np.round(countries_gdp_np.max(),2),np.round(countries_gdp_np.min(),2)"
   ]
  },
  {
   "cell_type": "code",
   "execution_count": 18,
   "id": "2f87abf0",
   "metadata": {},
   "outputs": [
    {
     "data": {
      "text/plain": [
       "array([4.00348506e+04, 2.29676952e+02, 1.12894093e+04, 1.27438289e+04,\n",
       "       7.11232784e+05])"
      ]
     },
     "execution_count": 18,
     "metadata": {},
     "output_type": "execute_result"
    }
   ],
   "source": [
    "values_np = np.array([countries_gdp_np.max(), countries_gdp_np.min(),countries_gdp_np.mean(),countries_gdp_np.std(),countries_gdp_np.sum()])\n",
    "values_np"
   ]
  },
  {
   "cell_type": "code",
   "execution_count": 26,
   "id": "566da814",
   "metadata": {},
   "outputs": [
    {
     "data": {
      "text/plain": [
       "array([4.0034850e+04, 2.2968000e+02, 1.1289410e+04, 1.2743830e+04,\n",
       "       7.1123278e+05])"
      ]
     },
     "execution_count": 26,
     "metadata": {},
     "output_type": "execute_result"
    }
   ],
   "source": [
    "np.round(values_np, 2)"
   ]
  },
  {
   "cell_type": "code",
   "execution_count": 30,
   "id": "b3aa0deb",
   "metadata": {},
   "outputs": [
    {
     "data": {
      "text/plain": [
       "('Norway', 'Ethiopia')"
      ]
     },
     "execution_count": 30,
     "metadata": {},
     "output_type": "execute_result"
    }
   ],
   "source": [
    "countries_np[countries_gdp_np.argmax()],countries_np[countries_gdp_np.argmin()]"
   ]
  },
  {
   "cell_type": "markdown",
   "id": "670a0cc1",
   "metadata": {},
   "source": [
    "## Print countries and gdp iteratively"
   ]
  },
  {
   "cell_type": "code",
   "execution_count": 33,
   "id": "5edf4587",
   "metadata": {},
   "outputs": [
    {
     "name": "stdout",
     "output_type": "stream",
     "text": [
      "Algeria \t 2255.225482\n",
      "Angola \t 629.9553062\n",
      "Argentina \t 11601.63022\n",
      "Australia \t 25306.82494\n",
      "Austria \t 27266.40335\n",
      "Bahamas \t 19466.99052\n",
      "Bangladesh \t 588.3691778\n",
      "Belarus \t 2890.345675\n",
      "Belgium \t 24733.62696\n",
      "Bhutan \t 1445.760002\n",
      "Brazil \t 4803.398244\n",
      "Bulgaria \t 2618.876037\n",
      "Cambodia \t 590.4521124\n",
      "Cameroon \t 665.7982328\n",
      "Chile \t 7122.938458\n",
      "China \t 2639.54156\n",
      "Colombia \t 3362.4656\n",
      "Cyprus \t 15378.16704\n",
      "Denmark \t 30860.12808\n",
      "El Salvador \t 2579.115607\n",
      "Estonia \t 6525.541272\n",
      "Ethiopia \t 229.6769525\n",
      "Fiji \t 2242.689259\n",
      "Finland \t 27570.4852\n",
      "France \t 23016.84778\n",
      "Georgia \t 1334.646773\n",
      "Ghana \t 402.6953275\n",
      "Grenada \t 6047.200797\n",
      "Guinea \t 394.1156638\n",
      "Haiti \t 385.5793827\n",
      "Honduras \t 1414.072488\n",
      "Hungary \t 5745.981529\n",
      "India \t 837.7464011\n",
      "Indonesia \t 1206.991065\n",
      "Ireland \t 27715.52837\n",
      "Italy \t 18937.24998\n",
      "Japan \t 39578.07441\n",
      "Kenya \t 478.2194906\n",
      "South Korea \t 16684.21278\n",
      "Liberia \t 279.2204061\n",
      "Malaysia \t 5345.213415\n",
      "Mexico \t 6288.25324\n",
      "Morocco \t 1908.304416\n",
      "Nepal \t 274.8728621\n",
      "New Zealand \t 14646.42094\n",
      "Norway \t 40034.85063\n",
      "Pakistan \t 672.1547506\n",
      "Peru \t 3359.517402\n",
      "Qatar \t 36152.66676\n",
      "Russia \t 3054.727742\n",
      "Singapore \t 33529.83052\n",
      "South Africa \t 3825.093781\n",
      "Spain \t 15428.32098\n",
      "Sweden \t 33630.24604\n",
      "Switzerland \t 39170.41371\n",
      "Thailand \t 2699.123242\n",
      "United Arab Emirates \t 21058.43643\n",
      "United Kingdom \t 28272.40661\n",
      "United States \t 37691.02733\n",
      "Uruguay \t 9581.05659\n",
      "Venezuela \t 5671.912202\n",
      "Vietnam \t 757.4009286\n",
      "Zimbabwe \t 347.7456605\n"
     ]
    }
   ],
   "source": [
    "# way 1\n",
    "for i in range(len(countries_gdp_np)):\n",
    "    print(countries_np[i],'\\t',countries_gdp_np[i])"
   ]
  },
  {
   "cell_type": "code",
   "execution_count": 35,
   "id": "bc0f4e9e",
   "metadata": {},
   "outputs": [
    {
     "name": "stdout",
     "output_type": "stream",
     "text": [
      "Algeria 2255.225482\n",
      "Angola 629.9553062\n",
      "Argentina 11601.63022\n",
      "Australia 25306.82494\n",
      "Austria 27266.40335\n",
      "Bahamas 19466.99052\n",
      "Bangladesh 588.3691778\n",
      "Belarus 2890.345675\n",
      "Belgium 24733.62696\n",
      "Bhutan 1445.760002\n",
      "Brazil 4803.398244\n",
      "Bulgaria 2618.876037\n",
      "Cambodia 590.4521124\n",
      "Cameroon 665.7982328\n",
      "Chile 7122.938458\n",
      "China 2639.54156\n",
      "Colombia 3362.4656\n",
      "Cyprus 15378.16704\n",
      "Denmark 30860.12808\n",
      "El Salvador 2579.115607\n",
      "Estonia 6525.541272\n",
      "Ethiopia 229.6769525\n",
      "Fiji 2242.689259\n",
      "Finland 27570.4852\n",
      "France 23016.84778\n",
      "Georgia 1334.646773\n",
      "Ghana 402.6953275\n",
      "Grenada 6047.200797\n",
      "Guinea 394.1156638\n",
      "Haiti 385.5793827\n",
      "Honduras 1414.072488\n",
      "Hungary 5745.981529\n",
      "India 837.7464011\n",
      "Indonesia 1206.991065\n",
      "Ireland 27715.52837\n",
      "Italy 18937.24998\n",
      "Japan 39578.07441\n",
      "Kenya 478.2194906\n",
      "South Korea 16684.21278\n",
      "Liberia 279.2204061\n",
      "Malaysia 5345.213415\n",
      "Mexico 6288.25324\n",
      "Morocco 1908.304416\n",
      "Nepal 274.8728621\n",
      "New Zealand 14646.42094\n",
      "Norway 40034.85063\n",
      "Pakistan 672.1547506\n",
      "Peru 3359.517402\n",
      "Qatar 36152.66676\n",
      "Russia 3054.727742\n",
      "Singapore 33529.83052\n",
      "South Africa 3825.093781\n",
      "Spain 15428.32098\n",
      "Sweden 33630.24604\n",
      "Switzerland 39170.41371\n",
      "Thailand 2699.123242\n",
      "United Arab Emirates 21058.43643\n",
      "United Kingdom 28272.40661\n",
      "United States 37691.02733\n",
      "Uruguay 9581.05659\n",
      "Venezuela 5671.912202\n",
      "Vietnam 757.4009286\n",
      "Zimbabwe 347.7456605\n"
     ]
    }
   ],
   "source": [
    "# way 2\n",
    "for i,j in zip(countries_np,countries_gdp_np):\n",
    "    print(i,j)"
   ]
  },
  {
   "cell_type": "code",
   "execution_count": 55,
   "id": "4ac52750",
   "metadata": {},
   "outputs": [],
   "source": [
    "list_1 = list(zip(countries_np,countries_gdp_np))"
   ]
  },
  {
   "cell_type": "code",
   "execution_count": 56,
   "id": "0f5f2388",
   "metadata": {},
   "outputs": [
    {
     "name": "stdout",
     "output_type": "stream",
     "text": [
      "{'Algeria': [2255.225482], 'Angola': [629.9553062], 'Argentina': [11601.63022], 'Australia': [25306.82494], 'Austria': [27266.40335], 'Bahamas': [19466.99052], 'Bangladesh': [588.3691778], 'Belarus': [2890.345675], 'Belgium': [24733.62696], 'Bhutan': [1445.760002], 'Brazil': [4803.398244], 'Bulgaria': [2618.876037], 'Cambodia': [590.4521124], 'Cameroon': [665.7982328], 'Chile': [7122.938458], 'China': [2639.54156], 'Colombia': [3362.4656], 'Cyprus': [15378.16704], 'Denmark': [30860.12808], 'El Salvador': [2579.115607], 'Estonia': [6525.541272], 'Ethiopia': [229.6769525], 'Fiji': [2242.689259], 'Finland': [27570.4852], 'France': [23016.84778], 'Georgia': [1334.646773], 'Ghana': [402.6953275], 'Grenada': [6047.200797], 'Guinea': [394.1156638], 'Haiti': [385.5793827], 'Honduras': [1414.072488], 'Hungary': [5745.981529], 'India': [837.7464011], 'Indonesia': [1206.991065], 'Ireland': [27715.52837], 'Italy': [18937.24998], 'Japan': [39578.07441], 'Kenya': [478.2194906], 'South Korea': [16684.21278], 'Liberia': [279.2204061], 'Malaysia': [5345.213415], 'Mexico': [6288.25324], 'Morocco': [1908.304416], 'Nepal': [274.8728621], 'New Zealand': [14646.42094], 'Norway': [40034.85063], 'Pakistan': [672.1547506], 'Peru': [3359.517402], 'Qatar': [36152.66676], 'Russia': [3054.727742], 'Singapore': [33529.83052], 'South Africa': [3825.093781], 'Spain': [15428.32098], 'Sweden': [33630.24604], 'Switzerland': [39170.41371], 'Thailand': [2699.123242], 'United Arab Emirates': [21058.43643], 'United Kingdom': [28272.40661], 'United States': [37691.02733], 'Uruguay': [9581.05659], 'Venezuela': [5671.912202], 'Vietnam': [757.4009286], 'Zimbabwe': [347.7456605]}\n"
     ]
    }
   ],
   "source": [
    "dict_1 = dict()\n",
    "for country, gdp in list_1:\n",
    "    dict_1.setdefault(country, []).append(gdp)\n",
    "print(dict_1)"
   ]
  },
  {
   "cell_type": "code",
   "execution_count": 57,
   "id": "37e79e50",
   "metadata": {},
   "outputs": [
    {
     "name": "stdout",
     "output_type": "stream",
     "text": [
      "{'Algeria': 2255.225482, 'Angola': 629.9553062, 'Argentina': 11601.63022, 'Australia': 25306.82494, 'Austria': 27266.40335, 'Bahamas': 19466.99052, 'Bangladesh': 588.3691778, 'Belarus': 2890.345675, 'Belgium': 24733.62696, 'Bhutan': 1445.760002, 'Brazil': 4803.398244, 'Bulgaria': 2618.876037, 'Cambodia': 590.4521124, 'Cameroon': 665.7982328, 'Chile': 7122.938458, 'China': 2639.54156, 'Colombia': 3362.4656, 'Cyprus': 15378.16704, 'Denmark': 30860.12808, 'El Salvador': 2579.115607, 'Estonia': 6525.541272, 'Ethiopia': 229.6769525, 'Fiji': 2242.689259, 'Finland': 27570.4852, 'France': 23016.84778, 'Georgia': 1334.646773, 'Ghana': 402.6953275, 'Grenada': 6047.200797, 'Guinea': 394.1156638, 'Haiti': 385.5793827, 'Honduras': 1414.072488, 'Hungary': 5745.981529, 'India': 837.7464011, 'Indonesia': 1206.991065, 'Ireland': 27715.52837, 'Italy': 18937.24998, 'Japan': 39578.07441, 'Kenya': 478.2194906, 'South Korea': 16684.21278, 'Liberia': 279.2204061, 'Malaysia': 5345.213415, 'Mexico': 6288.25324, 'Morocco': 1908.304416, 'Nepal': 274.8728621, 'New Zealand': 14646.42094, 'Norway': 40034.85063, 'Pakistan': 672.1547506, 'Peru': 3359.517402, 'Qatar': 36152.66676, 'Russia': 3054.727742, 'Singapore': 33529.83052, 'South Africa': 3825.093781, 'Spain': 15428.32098, 'Sweden': 33630.24604, 'Switzerland': 39170.41371, 'Thailand': 2699.123242, 'United Arab Emirates': 21058.43643, 'United Kingdom': 28272.40661, 'United States': 37691.02733, 'Uruguay': 9581.05659, 'Venezuela': 5671.912202, 'Vietnam': 757.4009286, 'Zimbabwe': 347.7456605}\n"
     ]
    }
   ],
   "source": [
    "print(dict(list_1))"
   ]
  },
  {
   "cell_type": "code",
   "execution_count": 61,
   "id": "9c1e0ecf",
   "metadata": {},
   "outputs": [
    {
     "name": "stdout",
     "output_type": "stream",
     "text": [
      "{'Algeria': 2255.225482, 'Angola': 629.9553062, 'Argentina': 11601.63022, 'Australia': 25306.82494, 'Austria': 27266.40335, 'Bahamas': 19466.99052, 'Bangladesh': 588.3691778, 'Belarus': 2890.345675, 'Belgium': 24733.62696, 'Bhutan': 1445.760002, 'Brazil': 4803.398244, 'Bulgaria': 2618.876037, 'Cambodia': 590.4521124, 'Cameroon': 665.7982328, 'Chile': 7122.938458, 'China': 2639.54156, 'Colombia': 3362.4656, 'Cyprus': 15378.16704, 'Denmark': 30860.12808, 'El Salvador': 2579.115607, 'Estonia': 6525.541272, 'Ethiopia': 229.6769525, 'Fiji': 2242.689259, 'Finland': 27570.4852, 'France': 23016.84778, 'Georgia': 1334.646773, 'Ghana': 402.6953275, 'Grenada': 6047.200797, 'Guinea': 394.1156638, 'Haiti': 385.5793827, 'Honduras': 1414.072488, 'Hungary': 5745.981529, 'India': 837.7464011, 'Indonesia': 1206.991065, 'Ireland': 27715.52837, 'Italy': 18937.24998, 'Japan': 39578.07441, 'Kenya': 478.2194906, 'South Korea': 16684.21278, 'Liberia': 279.2204061, 'Malaysia': 5345.213415, 'Mexico': 6288.25324, 'Morocco': 1908.304416, 'Nepal': 274.8728621, 'New Zealand': 14646.42094, 'Norway': 40034.85063, 'Pakistan': 672.1547506, 'Peru': 3359.517402, 'Qatar': 36152.66676, 'Russia': 3054.727742, 'Singapore': 33529.83052, 'South Africa': 3825.093781, 'Spain': 15428.32098, 'Sweden': 33630.24604, 'Switzerland': 39170.41371, 'Thailand': 2699.123242, 'United Arab Emirates': 21058.43643, 'United Kingdom': 28272.40661, 'United States': 37691.02733, 'Uruguay': 9581.05659, 'Venezuela': 5671.912202, 'Vietnam': 757.4009286, 'Zimbabwe': 347.7456605}\n"
     ]
    }
   ],
   "source": [
    "d = {}\n",
    "for i,j in zip(countries_np,countries_gdp_np):\n",
    "    d[i]=j\n",
    "print(d)"
   ]
  },
  {
   "cell_type": "code",
   "execution_count": 62,
   "id": "684e3900",
   "metadata": {},
   "outputs": [
    {
     "data": {
      "text/plain": [
       "16684.21278"
      ]
     },
     "execution_count": 62,
     "metadata": {},
     "output_type": "execute_result"
    }
   ],
   "source": [
    "d['South Korea']"
   ]
  },
  {
   "cell_type": "markdown",
   "id": "3ad3e7f3",
   "metadata": {},
   "source": [
    "## Olympic 2012 medal tally"
   ]
  },
  {
   "cell_type": "code",
   "execution_count": 38,
   "id": "547dcdae",
   "metadata": {},
   "outputs": [],
   "source": [
    "import numpy as np"
   ]
  },
  {
   "cell_type": "code",
   "execution_count": 43,
   "id": "5fc852f4",
   "metadata": {},
   "outputs": [],
   "source": [
    "country_np = np.array(['Great Britain', 'China', 'Russia', 'United States', 'Korea','Japan',\n",
    "'Germany'])\n",
    "gold_np = np.array([29, 38,24,46,13,7,11])\n",
    "silver_np = np.array([17,28,25,28,8,14,11])\n",
    "bronze_np = np.array([19,22,32,29,7,17,14])"
   ]
  },
  {
   "cell_type": "code",
   "execution_count": 45,
   "id": "82892373",
   "metadata": {},
   "outputs": [
    {
     "data": {
      "text/plain": [
       "'United States'"
      ]
     },
     "execution_count": 45,
     "metadata": {},
     "output_type": "execute_result"
    }
   ],
   "source": [
    "country_np[gold_np.argmax()]"
   ]
  },
  {
   "cell_type": "code",
   "execution_count": 46,
   "id": "0660a96d",
   "metadata": {},
   "outputs": [
    {
     "data": {
      "text/plain": [
       "array([ True,  True,  True,  True, False, False, False])"
      ]
     },
     "execution_count": 46,
     "metadata": {},
     "output_type": "execute_result"
    }
   ],
   "source": [
    "# print countries having medals more than 20\n",
    "gold_np>20"
   ]
  },
  {
   "cell_type": "code",
   "execution_count": 48,
   "id": "692f1221",
   "metadata": {},
   "outputs": [
    {
     "data": {
      "text/plain": [
       "array(['Great Britain', 'China', 'Russia', 'United States'], dtype='<U13')"
      ]
     },
     "execution_count": 48,
     "metadata": {},
     "output_type": "execute_result"
    }
   ],
   "source": [
    "above_20 = country_np[gold_np>20]\n",
    "above_20"
   ]
  },
  {
   "cell_type": "code",
   "execution_count": 50,
   "id": "d83c5f1f",
   "metadata": {},
   "outputs": [
    {
     "data": {
      "text/plain": [
       "[(29, 17, 19),\n",
       " (38, 28, 22),\n",
       " (24, 25, 32),\n",
       " (46, 28, 29),\n",
       " (13, 8, 7),\n",
       " (7, 14, 17),\n",
       " (11, 11, 14)]"
      ]
     },
     "execution_count": 50,
     "metadata": {},
     "output_type": "execute_result"
    }
   ],
   "source": [
    "list(zip(gold_np,silver_np,bronze_np))"
   ]
  },
  {
   "cell_type": "code",
   "execution_count": 53,
   "id": "eee1453a",
   "metadata": {},
   "outputs": [
    {
     "name": "stdout",
     "output_type": "stream",
     "text": [
      "Great Britain 29 65\n",
      "China 38 88\n",
      "Russia 24 81\n",
      "United States 46 103\n",
      "Korea 13 28\n",
      "Japan 7 38\n",
      "Germany 11 36\n"
     ]
    }
   ],
   "source": [
    "for i,j,k,l in zip(country_np,gold_np,silver_np,bronze_np):\n",
    "    print(i,j,j+k+l)"
   ]
  },
  {
   "cell_type": "code",
   "execution_count": null,
   "id": "e8323702",
   "metadata": {},
   "outputs": [],
   "source": []
  }
 ],
 "metadata": {
  "kernelspec": {
   "display_name": "Python 3 (ipykernel)",
   "language": "python",
   "name": "python3"
  },
  "language_info": {
   "codemirror_mode": {
    "name": "ipython",
    "version": 3
   },
   "file_extension": ".py",
   "mimetype": "text/x-python",
   "name": "python",
   "nbconvert_exporter": "python",
   "pygments_lexer": "ipython3",
   "version": "3.11.2"
  }
 },
 "nbformat": 4,
 "nbformat_minor": 5
}
